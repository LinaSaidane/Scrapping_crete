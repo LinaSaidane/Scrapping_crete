{
 "cells": [
  {
   "cell_type": "code",
   "execution_count": 1,
   "metadata": {},
   "outputs": [
    {
     "data": {
      "text/plain": [
       "\"\\nLes expressions régulières\\nsontun petit langage de programmation<\\nspécialisé embarqué dans Python et dont la manipulation est rendue \\npossible par l'utilisation du module re. En utilisant ce petit langage, \\non définit des règles pour spécifier une correspondance \\navec un ensemble souhaité de chaînes de caractères.\\n\""
      ]
     },
     "execution_count": 1,
     "metadata": {},
     "output_type": "execute_result"
    }
   ],
   "source": [
    "#import des bibliothèques\n",
    "\n",
    "import requests\n",
    "from bs4 import BeautifulSoup\n",
    "import pandas as pd\n",
    "import re\n",
    "\n",
    "\"\"\"\n",
    "Les expressions régulières\n",
    "sontun petit langage de programmation<\n",
    "spécialisé embarqué dans Python et dont la manipulation est rendue \n",
    "possible par l'utilisation du module re. En utilisant ce petit langage, \n",
    "on définit des règles pour spécifier une correspondance \n",
    "avec un ensemble souhaité de chaînes de caractères.\n",
    "\"\"\""
   ]
  },
  {
   "cell_type": "code",
   "execution_count": 2,
   "metadata": {},
   "outputs": [],
   "source": [
    "#requête sur URL via HTTP retourne la page de l'url \n",
    "\n",
    "url='https://www.tripadvisor.fr/Attraction_Products-g189413-zfg12131-Crete.html/'\n",
    "headers = {'user-agent': 'Mozilla/5.0 (Windows NT 10.0; Win64; x64) AppleWebKit/537.36 (KHTML, like Gecko) Chrome/80.0.3987.132 Safari/537.36'}\n",
    "r=requests.get(url,headers=headers)\n",
    "Page_activites = BeautifulSoup(r.content,'html.parser')"
   ]
  },
  {
   "cell_type": "code",
   "execution_count": 3,
   "metadata": {},
   "outputs": [],
   "source": [
    "#définition d'une fonction get_result qui me retourne si l'élément existe, le premier élement \n",
    "#pour parer aux différents écarts d'informations entre les activités\n",
    "\n",
    "def get_result(elements):\n",
    "    if elements:\n",
    "        return elements[0]"
   ]
  },
  {
   "cell_type": "markdown",
   "metadata": {},
   "source": [
    "# <font color=red>I/ Boucle 1ere page et création de ma dataframe</font>"
   ]
  },
  {
   "cell_type": "code",
   "execution_count": 1,
   "metadata": {},
   "outputs": [
    {
     "ename": "IndentationError",
     "evalue": "unexpected indent (<ipython-input-1-ed118eae6043>, line 6)",
     "output_type": "error",
     "traceback": [
      "\u001b[1;36m  File \u001b[1;32m\"<ipython-input-1-ed118eae6043>\"\u001b[1;36m, line \u001b[1;32m6\u001b[0m\n\u001b[1;33m    for activity in Page_activites.select(\"div.listing_details\"):#manière css de récupérer l'information\u001b[0m\n\u001b[1;37m    ^\u001b[0m\n\u001b[1;31mIndentationError\u001b[0m\u001b[1;31m:\u001b[0m unexpected indent\n"
     ]
    }
   ],
   "source": [
    "#pour récupérer les éléments même ceux qui n'existent pas\n",
    "\n",
    "df_columns = [\"title\", \"url\", \"reviews\", \"rating\", \"price\", \"duration\", \"description\"]\n",
    "df = pd.DataFrame(columns=df_columns)\n",
    "\n",
    "for activity in Page_activites.select(\"div.listing_details\"):#manière css de récupérer l'information\n",
    "    \n",
    "    activity_title = get_result(\n",
    "        [i.text for i in activity.select(\"div.listing_title\")] \n",
    "    )\n",
    "    \n",
    "    activity_url = get_result(\n",
    "        [\"www.tripadvisor.fr\" + i.a[\"href\"] for i in activity.select(\"div.listing_title\")]\n",
    "    )\n",
    "    \n",
    "    activity_rating = get_result(\n",
    "        [int(i['class'][1].strip('bubble_'))/10 for i in activity.select(\"span[class*=ui_bubble_rating]\")] #Manière de récupérer les bubble\n",
    "    ) #strip supprime les caractères de gauche et de droite que l'on lui specifie\n",
    "    \n",
    "    activity_reviews = get_result(\n",
    "        [i.text for i in activity.select(\"div.listing_rating\")]\n",
    "    )\n",
    "    activity_price = get_result(\n",
    "        [i.text.replace(',', '.') for i in activity.select(\"div.from > span\")] # selectionne tous les span qui sont sous from\n",
    "    )\n",
    "    \n",
    "    activity_duration = get_result(\n",
    "        [i.text.replace('1-2','0.5').strip()for i in activity.select(\"div.product_duration\")]\n",
    "    )\n",
    "    activity_description = get_result(\n",
    "        [i.text for i in activity.select(\"div.listing_description\")]\n",
    "    )\n",
    "    \n",
    "    df = df.append(\n",
    "        {\n",
    "            \"title\": activity_title,\n",
    "            \"url\": activity_url,\n",
    "            \"rating\": activity_rating,\n",
    "            \"reviews\": activity_reviews,\n",
    "            \"price\": activity_price,\n",
    "            \"duration\": activity_duration,\n",
    "            \"description\": activity_description\n",
    "        },\n",
    "        ignore_index=True\n",
    "    )  "
   ]
  },
  {
   "cell_type": "code",
   "execution_count": 5,
   "metadata": {},
   "outputs": [
    {
     "data": {
      "text/html": [
       "<div>\n",
       "<style scoped>\n",
       "    .dataframe tbody tr th:only-of-type {\n",
       "        vertical-align: middle;\n",
       "    }\n",
       "\n",
       "    .dataframe tbody tr th {\n",
       "        vertical-align: top;\n",
       "    }\n",
       "\n",
       "    .dataframe thead th {\n",
       "        text-align: right;\n",
       "    }\n",
       "</style>\n",
       "<table border=\"1\" class=\"dataframe\">\n",
       "  <thead>\n",
       "    <tr style=\"text-align: right;\">\n",
       "      <th></th>\n",
       "      <th>title</th>\n",
       "      <th>url</th>\n",
       "      <th>reviews</th>\n",
       "      <th>rating</th>\n",
       "      <th>price</th>\n",
       "      <th>duration</th>\n",
       "      <th>description</th>\n",
       "    </tr>\n",
       "  </thead>\n",
       "  <tbody>\n",
       "    <tr>\n",
       "      <th>0</th>\n",
       "      <td>Découverte de la véritable cuisine crétoise</td>\n",
       "      <td>www.tripadvisor.fr/AttractionProductReview-g18...</td>\n",
       "      <td>56 avis</td>\n",
       "      <td>5.0</td>\n",
       "      <td>81.03€</td>\n",
       "      <td>None</td>\n",
       "      <td>Visitez la maison de montagne familiale d'un c...</td>\n",
       "    </tr>\n",
       "    <tr>\n",
       "      <th>1</th>\n",
       "      <td>Zeus Cave-Traditional-Villages-Old Wind Mills-...</td>\n",
       "      <td>www.tripadvisor.fr/AttractionProductReview-g18...</td>\n",
       "      <td>103 avis</td>\n",
       "      <td>5.0</td>\n",
       "      <td>87.18€</td>\n",
       "      <td>None</td>\n",
       "      <td>Passez une journée entière à explorer la Crète...</td>\n",
       "    </tr>\n",
       "    <tr>\n",
       "      <th>2</th>\n",
       "      <td>Billet coupe-file: billet d'entrée au musée ar...</td>\n",
       "      <td>www.tripadvisor.fr/AttractionProductReview-g18...</td>\n",
       "      <td>11 avis</td>\n",
       "      <td>4.5</td>\n",
       "      <td>9.50€</td>\n",
       "      <td>3 heures</td>\n",
       "      <td>Le musée archéologique d'Héraklion abrite la p...</td>\n",
       "    </tr>\n",
       "    <tr>\n",
       "      <th>3</th>\n",
       "      <td>Visite contée des rues de La Canée en matinée ...</td>\n",
       "      <td>www.tripadvisor.fr/AttractionProductReview-g55...</td>\n",
       "      <td>85 avis</td>\n",
       "      <td>5.0</td>\n",
       "      <td>80.64€</td>\n",
       "      <td>4 heures</td>\n",
       "      <td>Découvrez la véritable Crète lors d'une visite...</td>\n",
       "    </tr>\n",
       "    <tr>\n",
       "      <th>4</th>\n",
       "      <td>Excursion d’une journée dans l’ouest de la Crè...</td>\n",
       "      <td>www.tripadvisor.fr/AttractionProductReview-g18...</td>\n",
       "      <td>39 avis</td>\n",
       "      <td>4.0</td>\n",
       "      <td>57.95€</td>\n",
       "      <td>None</td>\n",
       "      <td>Les villes de La Canée et de Rethymnon, située...</td>\n",
       "    </tr>\n",
       "  </tbody>\n",
       "</table>\n",
       "</div>"
      ],
      "text/plain": [
       "                                               title  \\\n",
       "0        Découverte de la véritable cuisine crétoise   \n",
       "1  Zeus Cave-Traditional-Villages-Old Wind Mills-...   \n",
       "2  Billet coupe-file: billet d'entrée au musée ar...   \n",
       "3  Visite contée des rues de La Canée en matinée ...   \n",
       "4  Excursion d’une journée dans l’ouest de la Crè...   \n",
       "\n",
       "                                                 url    reviews  rating  \\\n",
       "0  www.tripadvisor.fr/AttractionProductReview-g18...   56 avis      5.0   \n",
       "1  www.tripadvisor.fr/AttractionProductReview-g18...  103 avis      5.0   \n",
       "2  www.tripadvisor.fr/AttractionProductReview-g18...   11 avis      4.5   \n",
       "3  www.tripadvisor.fr/AttractionProductReview-g55...   85 avis      5.0   \n",
       "4  www.tripadvisor.fr/AttractionProductReview-g18...   39 avis      4.0   \n",
       "\n",
       "    price  duration                                        description  \n",
       "0  81.03€      None  Visitez la maison de montagne familiale d'un c...  \n",
       "1  87.18€      None  Passez une journée entière à explorer la Crète...  \n",
       "2   9.50€  3 heures  Le musée archéologique d'Héraklion abrite la p...  \n",
       "3  80.64€  4 heures  Découvrez la véritable Crète lors d'une visite...  \n",
       "4  57.95€      None  Les villes de La Canée et de Rethymnon, située...  "
      ]
     },
     "execution_count": 5,
     "metadata": {},
     "output_type": "execute_result"
    }
   ],
   "source": [
    "df.head()"
   ]
  },
  {
   "cell_type": "code",
   "execution_count": 6,
   "metadata": {},
   "outputs": [],
   "source": [
    "df= df.set_index('title')"
   ]
  },
  {
   "cell_type": "markdown",
   "metadata": {},
   "source": [
    "# <font color=red>II/ Cleaning Dataframe</font>"
   ]
  },
  {
   "cell_type": "code",
   "execution_count": 7,
   "metadata": {},
   "outputs": [],
   "source": [
    "df[\"price\"]=df['price'].str.replace('€','')\n",
    "df[\"reviews\"]=df['reviews'].str.replace('avis','')\n",
    "df[\"duration\"]=df['duration'].str.replace('heures','')\n",
    "df[\"duration\"]=df['duration'].str.replace('heure','')"
   ]
  },
  {
   "cell_type": "code",
   "execution_count": 8,
   "metadata": {},
   "outputs": [
    {
     "data": {
      "text/html": [
       "<div>\n",
       "<style scoped>\n",
       "    .dataframe tbody tr th:only-of-type {\n",
       "        vertical-align: middle;\n",
       "    }\n",
       "\n",
       "    .dataframe tbody tr th {\n",
       "        vertical-align: top;\n",
       "    }\n",
       "\n",
       "    .dataframe thead th {\n",
       "        text-align: right;\n",
       "    }\n",
       "</style>\n",
       "<table border=\"1\" class=\"dataframe\">\n",
       "  <thead>\n",
       "    <tr style=\"text-align: right;\">\n",
       "      <th></th>\n",
       "      <th>url</th>\n",
       "      <th>reviews</th>\n",
       "      <th>rating</th>\n",
       "      <th>price</th>\n",
       "      <th>duration</th>\n",
       "      <th>description</th>\n",
       "    </tr>\n",
       "    <tr>\n",
       "      <th>title</th>\n",
       "      <th></th>\n",
       "      <th></th>\n",
       "      <th></th>\n",
       "      <th></th>\n",
       "      <th></th>\n",
       "      <th></th>\n",
       "    </tr>\n",
       "  </thead>\n",
       "  <tbody>\n",
       "    <tr>\n",
       "      <th>Découverte de la véritable cuisine crétoise</th>\n",
       "      <td>www.tripadvisor.fr/AttractionProductReview-g18...</td>\n",
       "      <td>56</td>\n",
       "      <td>5.0</td>\n",
       "      <td>81.03</td>\n",
       "      <td>None</td>\n",
       "      <td>Visitez la maison de montagne familiale d'un c...</td>\n",
       "    </tr>\n",
       "    <tr>\n",
       "      <th>Zeus Cave-Traditional-Villages-Old Wind Mills-Olive Oil Factory-Small...</th>\n",
       "      <td>www.tripadvisor.fr/AttractionProductReview-g18...</td>\n",
       "      <td>103</td>\n",
       "      <td>5.0</td>\n",
       "      <td>87.18</td>\n",
       "      <td>None</td>\n",
       "      <td>Passez une journée entière à explorer la Crète...</td>\n",
       "    </tr>\n",
       "    <tr>\n",
       "      <th>Billet coupe-file: billet d'entrée au musée archéologique d'Héraklion</th>\n",
       "      <td>www.tripadvisor.fr/AttractionProductReview-g18...</td>\n",
       "      <td>11</td>\n",
       "      <td>4.5</td>\n",
       "      <td>9.50</td>\n",
       "      <td>3</td>\n",
       "      <td>Le musée archéologique d'Héraklion abrite la p...</td>\n",
       "    </tr>\n",
       "    <tr>\n",
       "      <th>Visite contée des rues de La Canée en matinée avec dégustation de...</th>\n",
       "      <td>www.tripadvisor.fr/AttractionProductReview-g55...</td>\n",
       "      <td>85</td>\n",
       "      <td>5.0</td>\n",
       "      <td>80.64</td>\n",
       "      <td>4</td>\n",
       "      <td>Découvrez la véritable Crète lors d'une visite...</td>\n",
       "    </tr>\n",
       "    <tr>\n",
       "      <th>Excursion d’une journée dans l’ouest de la Crète : La Canée...</th>\n",
       "      <td>www.tripadvisor.fr/AttractionProductReview-g18...</td>\n",
       "      <td>39</td>\n",
       "      <td>4.0</td>\n",
       "      <td>57.95</td>\n",
       "      <td>None</td>\n",
       "      <td>Les villes de La Canée et de Rethymnon, située...</td>\n",
       "    </tr>\n",
       "    <tr>\n",
       "      <th>Snorkeling et excursion en bateau en Crète</th>\n",
       "      <td>www.tripadvisor.fr/AttractionProductReview-g18...</td>\n",
       "      <td>43</td>\n",
       "      <td>5.0</td>\n",
       "      <td>61.54</td>\n",
       "      <td>4</td>\n",
       "      <td>La plongée en apnée est à la fois très relaxan...</td>\n",
       "    </tr>\n",
       "    <tr>\n",
       "      <th>Randonnée d'une journée en petit groupe dans les Gorges de Samaria au...</th>\n",
       "      <td>www.tripadvisor.fr/AttractionProductReview-g18...</td>\n",
       "      <td>16</td>\n",
       "      <td>5.0</td>\n",
       "      <td>95.00</td>\n",
       "      <td>None</td>\n",
       "      <td>Promenez-vous dans l’un des plus longs canyons...</td>\n",
       "    </tr>\n",
       "    <tr>\n",
       "      <th>Crète excursion vin et huile d'olive</th>\n",
       "      <td>www.tripadvisor.fr/AttractionProductReview-g55...</td>\n",
       "      <td>46</td>\n",
       "      <td>5.0</td>\n",
       "      <td>85.14</td>\n",
       "      <td>None</td>\n",
       "      <td>Le sol riche et fertile de la Crète en fait un...</td>\n",
       "    </tr>\n",
       "    <tr>\n",
       "      <th>SUP et plongée en tuba au Blue Lagoon - Baie de Loutraki</th>\n",
       "      <td>www.tripadvisor.fr/AttractionProductReview-g55...</td>\n",
       "      <td>248</td>\n",
       "      <td>5.0</td>\n",
       "      <td>59.00</td>\n",
       "      <td>2</td>\n",
       "      <td>Explorez la côte crétoise à partir d'une planc...</td>\n",
       "    </tr>\n",
       "    <tr>\n",
       "      <th>Cours de Poterie</th>\n",
       "      <td>www.tripadvisor.fr/AttractionProductReview-g18...</td>\n",
       "      <td>3</td>\n",
       "      <td>5.0</td>\n",
       "      <td>35.00</td>\n",
       "      <td>2</td>\n",
       "      <td>Créer un objet en céramique est un moment uniq...</td>\n",
       "    </tr>\n",
       "    <tr>\n",
       "      <th>Formule Combinée Avec Visite De La Vieille Ville Et Du Port</th>\n",
       "      <td>www.tripadvisor.fr/AttractionProductReview-g18...</td>\n",
       "      <td>20</td>\n",
       "      <td>5.0</td>\n",
       "      <td>60.52</td>\n",
       "      <td>2</td>\n",
       "      <td>Faites des visites faciles à La Canée lors de ...</td>\n",
       "    </tr>\n",
       "    <tr>\n",
       "      <th>Excursion d'une journée complète à l'île de Spinalonga avec...</th>\n",
       "      <td>www.tripadvisor.fr/AttractionProductReview-g18...</td>\n",
       "      <td>55</td>\n",
       "      <td>4.0</td>\n",
       "      <td>65.84</td>\n",
       "      <td>None</td>\n",
       "      <td>Explorez la magnifique île de Spinalonga au la...</td>\n",
       "    </tr>\n",
       "    <tr>\n",
       "      <th>Grotte de Zeus et plateau du Lassithi (excursion-safari en hors-piste)</th>\n",
       "      <td>www.tripadvisor.fr/AttractionProductReview-g18...</td>\n",
       "      <td>79</td>\n",
       "      <td>5.0</td>\n",
       "      <td>89.00</td>\n",
       "      <td>None</td>\n",
       "      <td>Combinez le tourisme rural à l'aventure lors d...</td>\n",
       "    </tr>\n",
       "    <tr>\n",
       "      <th>Balade guidée au palais de Cnossos</th>\n",
       "      <td>www.tripadvisor.fr/AttractionProductReview-g18...</td>\n",
       "      <td>27</td>\n",
       "      <td>5.0</td>\n",
       "      <td>40.00</td>\n",
       "      <td>0.5</td>\n",
       "      <td>Excavé et restauré par des archéologues au déb...</td>\n",
       "    </tr>\n",
       "    <tr>\n",
       "      <th>Journée complète en safari à Mykonos</th>\n",
       "      <td>www.tripadvisor.fr/AttractionProductReview-g18...</td>\n",
       "      <td>None</td>\n",
       "      <td>NaN</td>\n",
       "      <td>79.00</td>\n",
       "      <td>None</td>\n",
       "      <td>Conduisez une jeep avec nous et découvrez les ...</td>\n",
       "    </tr>\n",
       "    <tr>\n",
       "      <th>Randonnée à pied</th>\n",
       "      <td>www.tripadvisor.fr/AttractionProductReview-g18...</td>\n",
       "      <td>25</td>\n",
       "      <td>5.0</td>\n",
       "      <td>85.00</td>\n",
       "      <td>4</td>\n",
       "      <td>Il est difficile de connaître la vraie Canée s...</td>\n",
       "    </tr>\n",
       "    <tr>\n",
       "      <th>Les 7 villages d'Apokoronas - Explorez la partie est de la Canée</th>\n",
       "      <td>www.tripadvisor.fr/AttractionProductReview-g18...</td>\n",
       "      <td>33</td>\n",
       "      <td>5.0</td>\n",
       "      <td>87.85</td>\n",
       "      <td>None</td>\n",
       "      <td>C'est un excellent choix pour les nouveaux vis...</td>\n",
       "    </tr>\n",
       "    <tr>\n",
       "      <th>Visite d'huile d'olive et dégustation</th>\n",
       "      <td>www.tripadvisor.fr/AttractionProductReview-g18...</td>\n",
       "      <td>100</td>\n",
       "      <td>5.0</td>\n",
       "      <td>12.31</td>\n",
       "      <td>1</td>\n",
       "      <td>De l'arbre à la bouteille, vous saurez tout su...</td>\n",
       "    </tr>\n",
       "    <tr>\n",
       "      <th>Visite privée de Gramvousa et Balos au départ de La Canée</th>\n",
       "      <td>www.tripadvisor.fr/AttractionProductReview-g11...</td>\n",
       "      <td>1</td>\n",
       "      <td>2.0</td>\n",
       "      <td>222.40</td>\n",
       "      <td>None</td>\n",
       "      <td>La mini-croisière à Gramvousa et à Balos est u...</td>\n",
       "    </tr>\n",
       "    <tr>\n",
       "      <th>Excursion privée en tricycle dans la vieille ville de La Canée</th>\n",
       "      <td>www.tripadvisor.fr/AttractionProductReview-g18...</td>\n",
       "      <td>28</td>\n",
       "      <td>5.0</td>\n",
       "      <td>40.00</td>\n",
       "      <td>0.5</td>\n",
       "      <td>Partez à la découverte de la vieille ville de ...</td>\n",
       "    </tr>\n",
       "    <tr>\n",
       "      <th>Visite semi-privée d'une journée complète sur le vin, l'huile d'olive...</th>\n",
       "      <td>www.tripadvisor.fr/AttractionProductReview-g18...</td>\n",
       "      <td>34</td>\n",
       "      <td>5.0</td>\n",
       "      <td>164.11</td>\n",
       "      <td>None</td>\n",
       "      <td>La Crète a une longue tradition viticole, qui ...</td>\n",
       "    </tr>\n",
       "    <tr>\n",
       "      <th>Tango à Vamos (Apocoronas)</th>\n",
       "      <td>www.tripadvisor.fr/AttractionProductReview-g18...</td>\n",
       "      <td>None</td>\n",
       "      <td>NaN</td>\n",
       "      <td>65.00</td>\n",
       "      <td>0.5</td>\n",
       "      <td>Trouver du tango pendant vos vacances peut êtr...</td>\n",
       "    </tr>\n",
       "    <tr>\n",
       "      <th>Croisières d'une journée en bateau privé dans la lagune de Balos...</th>\n",
       "      <td>www.tripadvisor.fr/AttractionProductReview-g18...</td>\n",
       "      <td>9</td>\n",
       "      <td>5.0</td>\n",
       "      <td>512.83</td>\n",
       "      <td>None</td>\n",
       "      <td>Avec notre voilier \"Mikros Naftilos\", nous org...</td>\n",
       "    </tr>\n",
       "    <tr>\n",
       "      <th>Randonnée d’une journée de 19 km aux gorges de Samaria au départ de...</th>\n",
       "      <td>www.tripadvisor.fr/AttractionProductReview-g18...</td>\n",
       "      <td>15</td>\n",
       "      <td>4.5</td>\n",
       "      <td>39.74</td>\n",
       "      <td>None</td>\n",
       "      <td>Avec ses murs abrupts et ses passages étroits,...</td>\n",
       "    </tr>\n",
       "    <tr>\n",
       "      <th>Billet coupe-file: billet d'entrée au palais de Knossos et au site...</th>\n",
       "      <td>www.tripadvisor.fr/AttractionProductReview-g18...</td>\n",
       "      <td>23</td>\n",
       "      <td>2.5</td>\n",
       "      <td>12.00</td>\n",
       "      <td>3</td>\n",
       "      <td>Personne ne veut perdre son temps de vacances ...</td>\n",
       "    </tr>\n",
       "    <tr>\n",
       "      <th>Aventure en buggy hors route en Crète</th>\n",
       "      <td>www.tripadvisor.fr/AttractionProductReview-g18...</td>\n",
       "      <td>121</td>\n",
       "      <td>5.0</td>\n",
       "      <td>140.00</td>\n",
       "      <td>None</td>\n",
       "      <td>Certains des paysages les plus sombres et les ...</td>\n",
       "    </tr>\n",
       "    <tr>\n",
       "      <th>Escapades inexplorées: Safari côte à côte vers la péninsule de...</th>\n",
       "      <td>www.tripadvisor.fr/AttractionProductReview-g18...</td>\n",
       "      <td>None</td>\n",
       "      <td>NaN</td>\n",
       "      <td>520.00</td>\n",
       "      <td>4</td>\n",
       "      <td>Profitez d'une fabuleuse journée à bord. Les e...</td>\n",
       "    </tr>\n",
       "  </tbody>\n",
       "</table>\n",
       "</div>"
      ],
      "text/plain": [
       "                                                                                                  url  \\\n",
       "title                                                                                                   \n",
       "Découverte de la véritable cuisine crétoise         www.tripadvisor.fr/AttractionProductReview-g18...   \n",
       "Zeus Cave-Traditional-Villages-Old Wind Mills-O...  www.tripadvisor.fr/AttractionProductReview-g18...   \n",
       "Billet coupe-file: billet d'entrée au musée arc...  www.tripadvisor.fr/AttractionProductReview-g18...   \n",
       "Visite contée des rues de La Canée en matinée a...  www.tripadvisor.fr/AttractionProductReview-g55...   \n",
       "Excursion d’une journée dans l’ouest de la Crèt...  www.tripadvisor.fr/AttractionProductReview-g18...   \n",
       "Snorkeling et excursion en bateau en Crète          www.tripadvisor.fr/AttractionProductReview-g18...   \n",
       "Randonnée d'une journée en petit groupe dans le...  www.tripadvisor.fr/AttractionProductReview-g18...   \n",
       "Crète excursion vin et huile d'olive                www.tripadvisor.fr/AttractionProductReview-g55...   \n",
       "SUP et plongée en tuba au Blue Lagoon - Baie de...  www.tripadvisor.fr/AttractionProductReview-g55...   \n",
       "Cours de Poterie                                    www.tripadvisor.fr/AttractionProductReview-g18...   \n",
       "Formule Combinée Avec Visite De La Vieille Vill...  www.tripadvisor.fr/AttractionProductReview-g18...   \n",
       "Excursion d'une journée complète à l'île de Spi...  www.tripadvisor.fr/AttractionProductReview-g18...   \n",
       "Grotte de Zeus et plateau du Lassithi (excursio...  www.tripadvisor.fr/AttractionProductReview-g18...   \n",
       "Balade guidée au palais de Cnossos                  www.tripadvisor.fr/AttractionProductReview-g18...   \n",
       "Journée complète en safari à Mykonos                www.tripadvisor.fr/AttractionProductReview-g18...   \n",
       "Randonnée à pied                                    www.tripadvisor.fr/AttractionProductReview-g18...   \n",
       "Les 7 villages d'Apokoronas - Explorez la parti...  www.tripadvisor.fr/AttractionProductReview-g18...   \n",
       "Visite d'huile d'olive et dégustation               www.tripadvisor.fr/AttractionProductReview-g18...   \n",
       "Visite privée de Gramvousa et Balos au départ d...  www.tripadvisor.fr/AttractionProductReview-g11...   \n",
       "Excursion privée en tricycle dans la vieille vi...  www.tripadvisor.fr/AttractionProductReview-g18...   \n",
       "Visite semi-privée d'une journée complète sur l...  www.tripadvisor.fr/AttractionProductReview-g18...   \n",
       "Tango à Vamos (Apocoronas)                          www.tripadvisor.fr/AttractionProductReview-g18...   \n",
       "Croisières d'une journée en bateau privé dans l...  www.tripadvisor.fr/AttractionProductReview-g18...   \n",
       "Randonnée d’une journée de 19 km aux gorges de ...  www.tripadvisor.fr/AttractionProductReview-g18...   \n",
       "Billet coupe-file: billet d'entrée au palais de...  www.tripadvisor.fr/AttractionProductReview-g18...   \n",
       "Aventure en buggy hors route en Crète               www.tripadvisor.fr/AttractionProductReview-g18...   \n",
       "Escapades inexplorées: Safari côte à côte vers ...  www.tripadvisor.fr/AttractionProductReview-g18...   \n",
       "\n",
       "                                                   reviews  rating   price  \\\n",
       "title                                                                        \n",
       "Découverte de la véritable cuisine crétoise           56       5.0   81.03   \n",
       "Zeus Cave-Traditional-Villages-Old Wind Mills-O...   103       5.0   87.18   \n",
       "Billet coupe-file: billet d'entrée au musée arc...    11       4.5    9.50   \n",
       "Visite contée des rues de La Canée en matinée a...    85       5.0   80.64   \n",
       "Excursion d’une journée dans l’ouest de la Crèt...    39       4.0   57.95   \n",
       "Snorkeling et excursion en bateau en Crète            43       5.0   61.54   \n",
       "Randonnée d'une journée en petit groupe dans le...    16       5.0   95.00   \n",
       "Crète excursion vin et huile d'olive                  46       5.0   85.14   \n",
       "SUP et plongée en tuba au Blue Lagoon - Baie de...   248       5.0   59.00   \n",
       "Cours de Poterie                                       3       5.0   35.00   \n",
       "Formule Combinée Avec Visite De La Vieille Vill...    20       5.0   60.52   \n",
       "Excursion d'une journée complète à l'île de Spi...    55       4.0   65.84   \n",
       "Grotte de Zeus et plateau du Lassithi (excursio...    79       5.0   89.00   \n",
       "Balade guidée au palais de Cnossos                    27       5.0   40.00   \n",
       "Journée complète en safari à Mykonos                  None     NaN   79.00   \n",
       "Randonnée à pied                                      25       5.0   85.00   \n",
       "Les 7 villages d'Apokoronas - Explorez la parti...    33       5.0   87.85   \n",
       "Visite d'huile d'olive et dégustation                100       5.0   12.31   \n",
       "Visite privée de Gramvousa et Balos au départ d...     1       2.0  222.40   \n",
       "Excursion privée en tricycle dans la vieille vi...    28       5.0   40.00   \n",
       "Visite semi-privée d'une journée complète sur l...    34       5.0  164.11   \n",
       "Tango à Vamos (Apocoronas)                            None     NaN   65.00   \n",
       "Croisières d'une journée en bateau privé dans l...     9       5.0  512.83   \n",
       "Randonnée d’une journée de 19 km aux gorges de ...    15       4.5   39.74   \n",
       "Billet coupe-file: billet d'entrée au palais de...    23       2.5   12.00   \n",
       "Aventure en buggy hors route en Crète                121       5.0  140.00   \n",
       "Escapades inexplorées: Safari côte à côte vers ...    None     NaN  520.00   \n",
       "\n",
       "                                                   duration  \\\n",
       "title                                                         \n",
       "Découverte de la véritable cuisine crétoise            None   \n",
       "Zeus Cave-Traditional-Villages-Old Wind Mills-O...     None   \n",
       "Billet coupe-file: billet d'entrée au musée arc...       3    \n",
       "Visite contée des rues de La Canée en matinée a...       4    \n",
       "Excursion d’une journée dans l’ouest de la Crèt...     None   \n",
       "Snorkeling et excursion en bateau en Crète               4    \n",
       "Randonnée d'une journée en petit groupe dans le...     None   \n",
       "Crète excursion vin et huile d'olive                   None   \n",
       "SUP et plongée en tuba au Blue Lagoon - Baie de...       2    \n",
       "Cours de Poterie                                         2    \n",
       "Formule Combinée Avec Visite De La Vieille Vill...       2    \n",
       "Excursion d'une journée complète à l'île de Spi...     None   \n",
       "Grotte de Zeus et plateau du Lassithi (excursio...     None   \n",
       "Balade guidée au palais de Cnossos                     0.5    \n",
       "Journée complète en safari à Mykonos                   None   \n",
       "Randonnée à pied                                         4    \n",
       "Les 7 villages d'Apokoronas - Explorez la parti...     None   \n",
       "Visite d'huile d'olive et dégustation                    1    \n",
       "Visite privée de Gramvousa et Balos au départ d...     None   \n",
       "Excursion privée en tricycle dans la vieille vi...     0.5    \n",
       "Visite semi-privée d'une journée complète sur l...     None   \n",
       "Tango à Vamos (Apocoronas)                             0.5    \n",
       "Croisières d'une journée en bateau privé dans l...     None   \n",
       "Randonnée d’une journée de 19 km aux gorges de ...     None   \n",
       "Billet coupe-file: billet d'entrée au palais de...       3    \n",
       "Aventure en buggy hors route en Crète                  None   \n",
       "Escapades inexplorées: Safari côte à côte vers ...       4    \n",
       "\n",
       "                                                                                          description  \n",
       "title                                                                                                  \n",
       "Découverte de la véritable cuisine crétoise         Visitez la maison de montagne familiale d'un c...  \n",
       "Zeus Cave-Traditional-Villages-Old Wind Mills-O...  Passez une journée entière à explorer la Crète...  \n",
       "Billet coupe-file: billet d'entrée au musée arc...  Le musée archéologique d'Héraklion abrite la p...  \n",
       "Visite contée des rues de La Canée en matinée a...  Découvrez la véritable Crète lors d'une visite...  \n",
       "Excursion d’une journée dans l’ouest de la Crèt...  Les villes de La Canée et de Rethymnon, située...  \n",
       "Snorkeling et excursion en bateau en Crète          La plongée en apnée est à la fois très relaxan...  \n",
       "Randonnée d'une journée en petit groupe dans le...  Promenez-vous dans l’un des plus longs canyons...  \n",
       "Crète excursion vin et huile d'olive                Le sol riche et fertile de la Crète en fait un...  \n",
       "SUP et plongée en tuba au Blue Lagoon - Baie de...  Explorez la côte crétoise à partir d'une planc...  \n",
       "Cours de Poterie                                    Créer un objet en céramique est un moment uniq...  \n",
       "Formule Combinée Avec Visite De La Vieille Vill...  Faites des visites faciles à La Canée lors de ...  \n",
       "Excursion d'une journée complète à l'île de Spi...  Explorez la magnifique île de Spinalonga au la...  \n",
       "Grotte de Zeus et plateau du Lassithi (excursio...  Combinez le tourisme rural à l'aventure lors d...  \n",
       "Balade guidée au palais de Cnossos                  Excavé et restauré par des archéologues au déb...  \n",
       "Journée complète en safari à Mykonos                Conduisez une jeep avec nous et découvrez les ...  \n",
       "Randonnée à pied                                    Il est difficile de connaître la vraie Canée s...  \n",
       "Les 7 villages d'Apokoronas - Explorez la parti...  C'est un excellent choix pour les nouveaux vis...  \n",
       "Visite d'huile d'olive et dégustation               De l'arbre à la bouteille, vous saurez tout su...  \n",
       "Visite privée de Gramvousa et Balos au départ d...  La mini-croisière à Gramvousa et à Balos est u...  \n",
       "Excursion privée en tricycle dans la vieille vi...  Partez à la découverte de la vieille ville de ...  \n",
       "Visite semi-privée d'une journée complète sur l...  La Crète a une longue tradition viticole, qui ...  \n",
       "Tango à Vamos (Apocoronas)                          Trouver du tango pendant vos vacances peut êtr...  \n",
       "Croisières d'une journée en bateau privé dans l...  Avec notre voilier \"Mikros Naftilos\", nous org...  \n",
       "Randonnée d’une journée de 19 km aux gorges de ...  Avec ses murs abrupts et ses passages étroits,...  \n",
       "Billet coupe-file: billet d'entrée au palais de...  Personne ne veut perdre son temps de vacances ...  \n",
       "Aventure en buggy hors route en Crète               Certains des paysages les plus sombres et les ...  \n",
       "Escapades inexplorées: Safari côte à côte vers ...  Profitez d'une fabuleuse journée à bord. Les e...  "
      ]
     },
     "execution_count": 8,
     "metadata": {},
     "output_type": "execute_result"
    }
   ],
   "source": [
    "df"
   ]
  },
  {
   "cell_type": "code",
   "execution_count": 9,
   "metadata": {},
   "outputs": [],
   "source": [
    "#fonction qui convertit en float sauf quand y a nan\n",
    "import numpy as np\n",
    "\n",
    "def f(x):\n",
    "    try:\n",
    "        return np.float(x)\n",
    "    except:\n",
    "        return np.nan"
   ]
  },
  {
   "cell_type": "code",
   "execution_count": 10,
   "metadata": {},
   "outputs": [],
   "source": [
    "#coversion type des colonnes\n",
    "\n",
    "df['price']=df['price'].astype(float)\n",
    "df[\"reviews\"] =df[\"reviews\"].apply(f)\n",
    "df[\"duration\"] =df[\"duration\"].apply(f)\n"
   ]
  },
  {
   "cell_type": "code",
   "execution_count": 11,
   "metadata": {},
   "outputs": [
    {
     "data": {
      "text/plain": [
       "url             object\n",
       "reviews        float64\n",
       "rating         float64\n",
       "price          float64\n",
       "duration       float64\n",
       "description     object\n",
       "dtype: object"
      ]
     },
     "execution_count": 11,
     "metadata": {},
     "output_type": "execute_result"
    }
   ],
   "source": [
    "df.dtypes"
   ]
  },
  {
   "cell_type": "markdown",
   "metadata": {},
   "source": [
    "# <font color=red>III/ Clustering + dataviz </font>"
   ]
  },
  {
   "cell_type": "code",
   "execution_count": 12,
   "metadata": {},
   "outputs": [
    {
     "data": {
      "text/html": [
       "<div>\n",
       "<style scoped>\n",
       "    .dataframe tbody tr th:only-of-type {\n",
       "        vertical-align: middle;\n",
       "    }\n",
       "\n",
       "    .dataframe tbody tr th {\n",
       "        vertical-align: top;\n",
       "    }\n",
       "\n",
       "    .dataframe thead th {\n",
       "        text-align: right;\n",
       "    }\n",
       "</style>\n",
       "<table border=\"1\" class=\"dataframe\">\n",
       "  <thead>\n",
       "    <tr style=\"text-align: right;\">\n",
       "      <th></th>\n",
       "      <th>reviews</th>\n",
       "      <th>rating</th>\n",
       "      <th>price</th>\n",
       "      <th>duration</th>\n",
       "    </tr>\n",
       "  </thead>\n",
       "  <tbody>\n",
       "    <tr>\n",
       "      <th>count</th>\n",
       "      <td>24.000000</td>\n",
       "      <td>24.000000</td>\n",
       "      <td>27.000000</td>\n",
       "      <td>13.000000</td>\n",
       "    </tr>\n",
       "    <tr>\n",
       "      <th>mean</th>\n",
       "      <td>50.833333</td>\n",
       "      <td>4.645833</td>\n",
       "      <td>106.947407</td>\n",
       "      <td>2.346154</td>\n",
       "    </tr>\n",
       "    <tr>\n",
       "      <th>std</th>\n",
       "      <td>53.509582</td>\n",
       "      <td>0.800532</td>\n",
       "      <td>126.469172</td>\n",
       "      <td>1.419868</td>\n",
       "    </tr>\n",
       "    <tr>\n",
       "      <th>min</th>\n",
       "      <td>1.000000</td>\n",
       "      <td>2.000000</td>\n",
       "      <td>9.500000</td>\n",
       "      <td>0.500000</td>\n",
       "    </tr>\n",
       "    <tr>\n",
       "      <th>25%</th>\n",
       "      <td>19.000000</td>\n",
       "      <td>4.875000</td>\n",
       "      <td>48.975000</td>\n",
       "      <td>1.000000</td>\n",
       "    </tr>\n",
       "    <tr>\n",
       "      <th>50%</th>\n",
       "      <td>33.500000</td>\n",
       "      <td>5.000000</td>\n",
       "      <td>79.000000</td>\n",
       "      <td>2.000000</td>\n",
       "    </tr>\n",
       "    <tr>\n",
       "      <th>75%</th>\n",
       "      <td>61.750000</td>\n",
       "      <td>5.000000</td>\n",
       "      <td>88.425000</td>\n",
       "      <td>4.000000</td>\n",
       "    </tr>\n",
       "    <tr>\n",
       "      <th>max</th>\n",
       "      <td>248.000000</td>\n",
       "      <td>5.000000</td>\n",
       "      <td>520.000000</td>\n",
       "      <td>4.000000</td>\n",
       "    </tr>\n",
       "  </tbody>\n",
       "</table>\n",
       "</div>"
      ],
      "text/plain": [
       "          reviews     rating       price   duration\n",
       "count   24.000000  24.000000   27.000000  13.000000\n",
       "mean    50.833333   4.645833  106.947407   2.346154\n",
       "std     53.509582   0.800532  126.469172   1.419868\n",
       "min      1.000000   2.000000    9.500000   0.500000\n",
       "25%     19.000000   4.875000   48.975000   1.000000\n",
       "50%     33.500000   5.000000   79.000000   2.000000\n",
       "75%     61.750000   5.000000   88.425000   4.000000\n",
       "max    248.000000   5.000000  520.000000   4.000000"
      ]
     },
     "execution_count": 12,
     "metadata": {},
     "output_type": "execute_result"
    }
   ],
   "source": [
    "df.describe()"
   ]
  },
  {
   "cell_type": "code",
   "execution_count": 13,
   "metadata": {},
   "outputs": [
    {
     "data": {
      "text/html": [
       "<div>\n",
       "<style scoped>\n",
       "    .dataframe tbody tr th:only-of-type {\n",
       "        vertical-align: middle;\n",
       "    }\n",
       "\n",
       "    .dataframe tbody tr th {\n",
       "        vertical-align: top;\n",
       "    }\n",
       "\n",
       "    .dataframe thead th {\n",
       "        text-align: right;\n",
       "    }\n",
       "</style>\n",
       "<table border=\"1\" class=\"dataframe\">\n",
       "  <thead>\n",
       "    <tr style=\"text-align: right;\">\n",
       "      <th></th>\n",
       "      <th>url</th>\n",
       "      <th>reviews</th>\n",
       "      <th>rating</th>\n",
       "      <th>price</th>\n",
       "      <th>duration</th>\n",
       "      <th>description</th>\n",
       "    </tr>\n",
       "    <tr>\n",
       "      <th>title</th>\n",
       "      <th></th>\n",
       "      <th></th>\n",
       "      <th></th>\n",
       "      <th></th>\n",
       "      <th></th>\n",
       "      <th></th>\n",
       "    </tr>\n",
       "  </thead>\n",
       "  <tbody>\n",
       "    <tr>\n",
       "      <th>Découverte de la véritable cuisine crétoise</th>\n",
       "      <td>False</td>\n",
       "      <td>False</td>\n",
       "      <td>False</td>\n",
       "      <td>False</td>\n",
       "      <td>True</td>\n",
       "      <td>False</td>\n",
       "    </tr>\n",
       "    <tr>\n",
       "      <th>Zeus Cave-Traditional-Villages-Old Wind Mills-Olive Oil Factory-Small...</th>\n",
       "      <td>False</td>\n",
       "      <td>False</td>\n",
       "      <td>False</td>\n",
       "      <td>False</td>\n",
       "      <td>True</td>\n",
       "      <td>False</td>\n",
       "    </tr>\n",
       "    <tr>\n",
       "      <th>Billet coupe-file: billet d'entrée au musée archéologique d'Héraklion</th>\n",
       "      <td>False</td>\n",
       "      <td>False</td>\n",
       "      <td>False</td>\n",
       "      <td>False</td>\n",
       "      <td>False</td>\n",
       "      <td>False</td>\n",
       "    </tr>\n",
       "    <tr>\n",
       "      <th>Visite contée des rues de La Canée en matinée avec dégustation de...</th>\n",
       "      <td>False</td>\n",
       "      <td>False</td>\n",
       "      <td>False</td>\n",
       "      <td>False</td>\n",
       "      <td>False</td>\n",
       "      <td>False</td>\n",
       "    </tr>\n",
       "    <tr>\n",
       "      <th>Excursion d’une journée dans l’ouest de la Crète : La Canée...</th>\n",
       "      <td>False</td>\n",
       "      <td>False</td>\n",
       "      <td>False</td>\n",
       "      <td>False</td>\n",
       "      <td>True</td>\n",
       "      <td>False</td>\n",
       "    </tr>\n",
       "  </tbody>\n",
       "</table>\n",
       "</div>"
      ],
      "text/plain": [
       "                                                      url  reviews  rating  \\\n",
       "title                                                                        \n",
       "Découverte de la véritable cuisine crétoise         False    False   False   \n",
       "Zeus Cave-Traditional-Villages-Old Wind Mills-O...  False    False   False   \n",
       "Billet coupe-file: billet d'entrée au musée arc...  False    False   False   \n",
       "Visite contée des rues de La Canée en matinée a...  False    False   False   \n",
       "Excursion d’une journée dans l’ouest de la Crèt...  False    False   False   \n",
       "\n",
       "                                                    price  duration  \\\n",
       "title                                                                 \n",
       "Découverte de la véritable cuisine crétoise         False      True   \n",
       "Zeus Cave-Traditional-Villages-Old Wind Mills-O...  False      True   \n",
       "Billet coupe-file: billet d'entrée au musée arc...  False     False   \n",
       "Visite contée des rues de La Canée en matinée a...  False     False   \n",
       "Excursion d’une journée dans l’ouest de la Crèt...  False      True   \n",
       "\n",
       "                                                    description  \n",
       "title                                                            \n",
       "Découverte de la véritable cuisine crétoise               False  \n",
       "Zeus Cave-Traditional-Villages-Old Wind Mills-O...        False  \n",
       "Billet coupe-file: billet d'entrée au musée arc...        False  \n",
       "Visite contée des rues de La Canée en matinée a...        False  \n",
       "Excursion d’une journée dans l’ouest de la Crèt...        False  "
      ]
     },
     "execution_count": 13,
     "metadata": {},
     "output_type": "execute_result"
    }
   ],
   "source": [
    "df.isna().head()"
   ]
  },
  {
   "cell_type": "code",
   "execution_count": 14,
   "metadata": {},
   "outputs": [
    {
     "data": {
      "text/plain": [
       "url             0\n",
       "reviews         3\n",
       "rating          3\n",
       "price           0\n",
       "duration       14\n",
       "description     0\n",
       "dtype: int64"
      ]
     },
     "execution_count": 14,
     "metadata": {},
     "output_type": "execute_result"
    }
   ],
   "source": [
    "df.isna().sum()"
   ]
  },
  {
   "cell_type": "code",
   "execution_count": 15,
   "metadata": {
    "scrolled": true
   },
   "outputs": [
    {
     "data": {
      "text/html": [
       "<div>\n",
       "<style scoped>\n",
       "    .dataframe tbody tr th:only-of-type {\n",
       "        vertical-align: middle;\n",
       "    }\n",
       "\n",
       "    .dataframe tbody tr th {\n",
       "        vertical-align: top;\n",
       "    }\n",
       "\n",
       "    .dataframe thead th {\n",
       "        text-align: right;\n",
       "    }\n",
       "</style>\n",
       "<table border=\"1\" class=\"dataframe\">\n",
       "  <thead>\n",
       "    <tr style=\"text-align: right;\">\n",
       "      <th></th>\n",
       "      <th>url</th>\n",
       "      <th>reviews</th>\n",
       "      <th>rating</th>\n",
       "      <th>price</th>\n",
       "      <th>duration</th>\n",
       "      <th>description</th>\n",
       "    </tr>\n",
       "    <tr>\n",
       "      <th>title</th>\n",
       "      <th></th>\n",
       "      <th></th>\n",
       "      <th></th>\n",
       "      <th></th>\n",
       "      <th></th>\n",
       "      <th></th>\n",
       "    </tr>\n",
       "  </thead>\n",
       "  <tbody>\n",
       "    <tr>\n",
       "      <th>Découverte de la véritable cuisine crétoise</th>\n",
       "      <td>www.tripadvisor.fr/AttractionProductReview-g18...</td>\n",
       "      <td>56.00</td>\n",
       "      <td>5.00</td>\n",
       "      <td>81.03</td>\n",
       "      <td>2.35</td>\n",
       "      <td>Visitez la maison de montagne familiale d'un c...</td>\n",
       "    </tr>\n",
       "    <tr>\n",
       "      <th>Zeus Cave-Traditional-Villages-Old Wind Mills-Olive Oil Factory-Small...</th>\n",
       "      <td>www.tripadvisor.fr/AttractionProductReview-g18...</td>\n",
       "      <td>103.00</td>\n",
       "      <td>5.00</td>\n",
       "      <td>87.18</td>\n",
       "      <td>2.35</td>\n",
       "      <td>Passez une journée entière à explorer la Crète...</td>\n",
       "    </tr>\n",
       "    <tr>\n",
       "      <th>Billet coupe-file: billet d'entrée au musée archéologique d'Héraklion</th>\n",
       "      <td>www.tripadvisor.fr/AttractionProductReview-g18...</td>\n",
       "      <td>11.00</td>\n",
       "      <td>4.50</td>\n",
       "      <td>9.50</td>\n",
       "      <td>3.00</td>\n",
       "      <td>Le musée archéologique d'Héraklion abrite la p...</td>\n",
       "    </tr>\n",
       "    <tr>\n",
       "      <th>Visite contée des rues de La Canée en matinée avec dégustation de...</th>\n",
       "      <td>www.tripadvisor.fr/AttractionProductReview-g55...</td>\n",
       "      <td>85.00</td>\n",
       "      <td>5.00</td>\n",
       "      <td>80.64</td>\n",
       "      <td>4.00</td>\n",
       "      <td>Découvrez la véritable Crète lors d'une visite...</td>\n",
       "    </tr>\n",
       "    <tr>\n",
       "      <th>Excursion d’une journée dans l’ouest de la Crète : La Canée...</th>\n",
       "      <td>www.tripadvisor.fr/AttractionProductReview-g18...</td>\n",
       "      <td>39.00</td>\n",
       "      <td>4.00</td>\n",
       "      <td>57.95</td>\n",
       "      <td>2.35</td>\n",
       "      <td>Les villes de La Canée et de Rethymnon, située...</td>\n",
       "    </tr>\n",
       "    <tr>\n",
       "      <th>Snorkeling et excursion en bateau en Crète</th>\n",
       "      <td>www.tripadvisor.fr/AttractionProductReview-g18...</td>\n",
       "      <td>43.00</td>\n",
       "      <td>5.00</td>\n",
       "      <td>61.54</td>\n",
       "      <td>4.00</td>\n",
       "      <td>La plongée en apnée est à la fois très relaxan...</td>\n",
       "    </tr>\n",
       "    <tr>\n",
       "      <th>Randonnée d'une journée en petit groupe dans les Gorges de Samaria au...</th>\n",
       "      <td>www.tripadvisor.fr/AttractionProductReview-g18...</td>\n",
       "      <td>16.00</td>\n",
       "      <td>5.00</td>\n",
       "      <td>95.00</td>\n",
       "      <td>2.35</td>\n",
       "      <td>Promenez-vous dans l’un des plus longs canyons...</td>\n",
       "    </tr>\n",
       "    <tr>\n",
       "      <th>Crète excursion vin et huile d'olive</th>\n",
       "      <td>www.tripadvisor.fr/AttractionProductReview-g55...</td>\n",
       "      <td>46.00</td>\n",
       "      <td>5.00</td>\n",
       "      <td>85.14</td>\n",
       "      <td>2.35</td>\n",
       "      <td>Le sol riche et fertile de la Crète en fait un...</td>\n",
       "    </tr>\n",
       "    <tr>\n",
       "      <th>SUP et plongée en tuba au Blue Lagoon - Baie de Loutraki</th>\n",
       "      <td>www.tripadvisor.fr/AttractionProductReview-g55...</td>\n",
       "      <td>248.00</td>\n",
       "      <td>5.00</td>\n",
       "      <td>59.00</td>\n",
       "      <td>2.00</td>\n",
       "      <td>Explorez la côte crétoise à partir d'une planc...</td>\n",
       "    </tr>\n",
       "    <tr>\n",
       "      <th>Cours de Poterie</th>\n",
       "      <td>www.tripadvisor.fr/AttractionProductReview-g18...</td>\n",
       "      <td>3.00</td>\n",
       "      <td>5.00</td>\n",
       "      <td>35.00</td>\n",
       "      <td>2.00</td>\n",
       "      <td>Créer un objet en céramique est un moment uniq...</td>\n",
       "    </tr>\n",
       "    <tr>\n",
       "      <th>Formule Combinée Avec Visite De La Vieille Ville Et Du Port</th>\n",
       "      <td>www.tripadvisor.fr/AttractionProductReview-g18...</td>\n",
       "      <td>20.00</td>\n",
       "      <td>5.00</td>\n",
       "      <td>60.52</td>\n",
       "      <td>2.00</td>\n",
       "      <td>Faites des visites faciles à La Canée lors de ...</td>\n",
       "    </tr>\n",
       "    <tr>\n",
       "      <th>Excursion d'une journée complète à l'île de Spinalonga avec...</th>\n",
       "      <td>www.tripadvisor.fr/AttractionProductReview-g18...</td>\n",
       "      <td>55.00</td>\n",
       "      <td>4.00</td>\n",
       "      <td>65.84</td>\n",
       "      <td>2.35</td>\n",
       "      <td>Explorez la magnifique île de Spinalonga au la...</td>\n",
       "    </tr>\n",
       "    <tr>\n",
       "      <th>Grotte de Zeus et plateau du Lassithi (excursion-safari en hors-piste)</th>\n",
       "      <td>www.tripadvisor.fr/AttractionProductReview-g18...</td>\n",
       "      <td>79.00</td>\n",
       "      <td>5.00</td>\n",
       "      <td>89.00</td>\n",
       "      <td>2.35</td>\n",
       "      <td>Combinez le tourisme rural à l'aventure lors d...</td>\n",
       "    </tr>\n",
       "    <tr>\n",
       "      <th>Balade guidée au palais de Cnossos</th>\n",
       "      <td>www.tripadvisor.fr/AttractionProductReview-g18...</td>\n",
       "      <td>27.00</td>\n",
       "      <td>5.00</td>\n",
       "      <td>40.00</td>\n",
       "      <td>0.50</td>\n",
       "      <td>Excavé et restauré par des archéologues au déb...</td>\n",
       "    </tr>\n",
       "    <tr>\n",
       "      <th>Journée complète en safari à Mykonos</th>\n",
       "      <td>www.tripadvisor.fr/AttractionProductReview-g18...</td>\n",
       "      <td>50.83</td>\n",
       "      <td>4.65</td>\n",
       "      <td>79.00</td>\n",
       "      <td>2.35</td>\n",
       "      <td>Conduisez une jeep avec nous et découvrez les ...</td>\n",
       "    </tr>\n",
       "    <tr>\n",
       "      <th>Randonnée à pied</th>\n",
       "      <td>www.tripadvisor.fr/AttractionProductReview-g18...</td>\n",
       "      <td>25.00</td>\n",
       "      <td>5.00</td>\n",
       "      <td>85.00</td>\n",
       "      <td>4.00</td>\n",
       "      <td>Il est difficile de connaître la vraie Canée s...</td>\n",
       "    </tr>\n",
       "    <tr>\n",
       "      <th>Les 7 villages d'Apokoronas - Explorez la partie est de la Canée</th>\n",
       "      <td>www.tripadvisor.fr/AttractionProductReview-g18...</td>\n",
       "      <td>33.00</td>\n",
       "      <td>5.00</td>\n",
       "      <td>87.85</td>\n",
       "      <td>2.35</td>\n",
       "      <td>C'est un excellent choix pour les nouveaux vis...</td>\n",
       "    </tr>\n",
       "    <tr>\n",
       "      <th>Visite d'huile d'olive et dégustation</th>\n",
       "      <td>www.tripadvisor.fr/AttractionProductReview-g18...</td>\n",
       "      <td>100.00</td>\n",
       "      <td>5.00</td>\n",
       "      <td>12.31</td>\n",
       "      <td>1.00</td>\n",
       "      <td>De l'arbre à la bouteille, vous saurez tout su...</td>\n",
       "    </tr>\n",
       "    <tr>\n",
       "      <th>Visite privée de Gramvousa et Balos au départ de La Canée</th>\n",
       "      <td>www.tripadvisor.fr/AttractionProductReview-g11...</td>\n",
       "      <td>1.00</td>\n",
       "      <td>2.00</td>\n",
       "      <td>222.40</td>\n",
       "      <td>2.35</td>\n",
       "      <td>La mini-croisière à Gramvousa et à Balos est u...</td>\n",
       "    </tr>\n",
       "    <tr>\n",
       "      <th>Excursion privée en tricycle dans la vieille ville de La Canée</th>\n",
       "      <td>www.tripadvisor.fr/AttractionProductReview-g18...</td>\n",
       "      <td>28.00</td>\n",
       "      <td>5.00</td>\n",
       "      <td>40.00</td>\n",
       "      <td>0.50</td>\n",
       "      <td>Partez à la découverte de la vieille ville de ...</td>\n",
       "    </tr>\n",
       "    <tr>\n",
       "      <th>Visite semi-privée d'une journée complète sur le vin, l'huile d'olive...</th>\n",
       "      <td>www.tripadvisor.fr/AttractionProductReview-g18...</td>\n",
       "      <td>34.00</td>\n",
       "      <td>5.00</td>\n",
       "      <td>164.11</td>\n",
       "      <td>2.35</td>\n",
       "      <td>La Crète a une longue tradition viticole, qui ...</td>\n",
       "    </tr>\n",
       "    <tr>\n",
       "      <th>Tango à Vamos (Apocoronas)</th>\n",
       "      <td>www.tripadvisor.fr/AttractionProductReview-g18...</td>\n",
       "      <td>50.83</td>\n",
       "      <td>4.65</td>\n",
       "      <td>65.00</td>\n",
       "      <td>0.50</td>\n",
       "      <td>Trouver du tango pendant vos vacances peut êtr...</td>\n",
       "    </tr>\n",
       "    <tr>\n",
       "      <th>Croisières d'une journée en bateau privé dans la lagune de Balos...</th>\n",
       "      <td>www.tripadvisor.fr/AttractionProductReview-g18...</td>\n",
       "      <td>9.00</td>\n",
       "      <td>5.00</td>\n",
       "      <td>512.83</td>\n",
       "      <td>2.35</td>\n",
       "      <td>Avec notre voilier \"Mikros Naftilos\", nous org...</td>\n",
       "    </tr>\n",
       "    <tr>\n",
       "      <th>Randonnée d’une journée de 19 km aux gorges de Samaria au départ de...</th>\n",
       "      <td>www.tripadvisor.fr/AttractionProductReview-g18...</td>\n",
       "      <td>15.00</td>\n",
       "      <td>4.50</td>\n",
       "      <td>39.74</td>\n",
       "      <td>2.35</td>\n",
       "      <td>Avec ses murs abrupts et ses passages étroits,...</td>\n",
       "    </tr>\n",
       "    <tr>\n",
       "      <th>Billet coupe-file: billet d'entrée au palais de Knossos et au site...</th>\n",
       "      <td>www.tripadvisor.fr/AttractionProductReview-g18...</td>\n",
       "      <td>23.00</td>\n",
       "      <td>2.50</td>\n",
       "      <td>12.00</td>\n",
       "      <td>3.00</td>\n",
       "      <td>Personne ne veut perdre son temps de vacances ...</td>\n",
       "    </tr>\n",
       "    <tr>\n",
       "      <th>Aventure en buggy hors route en Crète</th>\n",
       "      <td>www.tripadvisor.fr/AttractionProductReview-g18...</td>\n",
       "      <td>121.00</td>\n",
       "      <td>5.00</td>\n",
       "      <td>140.00</td>\n",
       "      <td>2.35</td>\n",
       "      <td>Certains des paysages les plus sombres et les ...</td>\n",
       "    </tr>\n",
       "    <tr>\n",
       "      <th>Escapades inexplorées: Safari côte à côte vers la péninsule de...</th>\n",
       "      <td>www.tripadvisor.fr/AttractionProductReview-g18...</td>\n",
       "      <td>50.83</td>\n",
       "      <td>4.65</td>\n",
       "      <td>520.00</td>\n",
       "      <td>4.00</td>\n",
       "      <td>Profitez d'une fabuleuse journée à bord. Les e...</td>\n",
       "    </tr>\n",
       "  </tbody>\n",
       "</table>\n",
       "</div>"
      ],
      "text/plain": [
       "                                                                                                  url  \\\n",
       "title                                                                                                   \n",
       "Découverte de la véritable cuisine crétoise         www.tripadvisor.fr/AttractionProductReview-g18...   \n",
       "Zeus Cave-Traditional-Villages-Old Wind Mills-O...  www.tripadvisor.fr/AttractionProductReview-g18...   \n",
       "Billet coupe-file: billet d'entrée au musée arc...  www.tripadvisor.fr/AttractionProductReview-g18...   \n",
       "Visite contée des rues de La Canée en matinée a...  www.tripadvisor.fr/AttractionProductReview-g55...   \n",
       "Excursion d’une journée dans l’ouest de la Crèt...  www.tripadvisor.fr/AttractionProductReview-g18...   \n",
       "Snorkeling et excursion en bateau en Crète          www.tripadvisor.fr/AttractionProductReview-g18...   \n",
       "Randonnée d'une journée en petit groupe dans le...  www.tripadvisor.fr/AttractionProductReview-g18...   \n",
       "Crète excursion vin et huile d'olive                www.tripadvisor.fr/AttractionProductReview-g55...   \n",
       "SUP et plongée en tuba au Blue Lagoon - Baie de...  www.tripadvisor.fr/AttractionProductReview-g55...   \n",
       "Cours de Poterie                                    www.tripadvisor.fr/AttractionProductReview-g18...   \n",
       "Formule Combinée Avec Visite De La Vieille Vill...  www.tripadvisor.fr/AttractionProductReview-g18...   \n",
       "Excursion d'une journée complète à l'île de Spi...  www.tripadvisor.fr/AttractionProductReview-g18...   \n",
       "Grotte de Zeus et plateau du Lassithi (excursio...  www.tripadvisor.fr/AttractionProductReview-g18...   \n",
       "Balade guidée au palais de Cnossos                  www.tripadvisor.fr/AttractionProductReview-g18...   \n",
       "Journée complète en safari à Mykonos                www.tripadvisor.fr/AttractionProductReview-g18...   \n",
       "Randonnée à pied                                    www.tripadvisor.fr/AttractionProductReview-g18...   \n",
       "Les 7 villages d'Apokoronas - Explorez la parti...  www.tripadvisor.fr/AttractionProductReview-g18...   \n",
       "Visite d'huile d'olive et dégustation               www.tripadvisor.fr/AttractionProductReview-g18...   \n",
       "Visite privée de Gramvousa et Balos au départ d...  www.tripadvisor.fr/AttractionProductReview-g11...   \n",
       "Excursion privée en tricycle dans la vieille vi...  www.tripadvisor.fr/AttractionProductReview-g18...   \n",
       "Visite semi-privée d'une journée complète sur l...  www.tripadvisor.fr/AttractionProductReview-g18...   \n",
       "Tango à Vamos (Apocoronas)                          www.tripadvisor.fr/AttractionProductReview-g18...   \n",
       "Croisières d'une journée en bateau privé dans l...  www.tripadvisor.fr/AttractionProductReview-g18...   \n",
       "Randonnée d’une journée de 19 km aux gorges de ...  www.tripadvisor.fr/AttractionProductReview-g18...   \n",
       "Billet coupe-file: billet d'entrée au palais de...  www.tripadvisor.fr/AttractionProductReview-g18...   \n",
       "Aventure en buggy hors route en Crète               www.tripadvisor.fr/AttractionProductReview-g18...   \n",
       "Escapades inexplorées: Safari côte à côte vers ...  www.tripadvisor.fr/AttractionProductReview-g18...   \n",
       "\n",
       "                                                    reviews  rating   price  \\\n",
       "title                                                                         \n",
       "Découverte de la véritable cuisine crétoise           56.00    5.00   81.03   \n",
       "Zeus Cave-Traditional-Villages-Old Wind Mills-O...   103.00    5.00   87.18   \n",
       "Billet coupe-file: billet d'entrée au musée arc...    11.00    4.50    9.50   \n",
       "Visite contée des rues de La Canée en matinée a...    85.00    5.00   80.64   \n",
       "Excursion d’une journée dans l’ouest de la Crèt...    39.00    4.00   57.95   \n",
       "Snorkeling et excursion en bateau en Crète            43.00    5.00   61.54   \n",
       "Randonnée d'une journée en petit groupe dans le...    16.00    5.00   95.00   \n",
       "Crète excursion vin et huile d'olive                  46.00    5.00   85.14   \n",
       "SUP et plongée en tuba au Blue Lagoon - Baie de...   248.00    5.00   59.00   \n",
       "Cours de Poterie                                       3.00    5.00   35.00   \n",
       "Formule Combinée Avec Visite De La Vieille Vill...    20.00    5.00   60.52   \n",
       "Excursion d'une journée complète à l'île de Spi...    55.00    4.00   65.84   \n",
       "Grotte de Zeus et plateau du Lassithi (excursio...    79.00    5.00   89.00   \n",
       "Balade guidée au palais de Cnossos                    27.00    5.00   40.00   \n",
       "Journée complète en safari à Mykonos                  50.83    4.65   79.00   \n",
       "Randonnée à pied                                      25.00    5.00   85.00   \n",
       "Les 7 villages d'Apokoronas - Explorez la parti...    33.00    5.00   87.85   \n",
       "Visite d'huile d'olive et dégustation                100.00    5.00   12.31   \n",
       "Visite privée de Gramvousa et Balos au départ d...     1.00    2.00  222.40   \n",
       "Excursion privée en tricycle dans la vieille vi...    28.00    5.00   40.00   \n",
       "Visite semi-privée d'une journée complète sur l...    34.00    5.00  164.11   \n",
       "Tango à Vamos (Apocoronas)                            50.83    4.65   65.00   \n",
       "Croisières d'une journée en bateau privé dans l...     9.00    5.00  512.83   \n",
       "Randonnée d’une journée de 19 km aux gorges de ...    15.00    4.50   39.74   \n",
       "Billet coupe-file: billet d'entrée au palais de...    23.00    2.50   12.00   \n",
       "Aventure en buggy hors route en Crète                121.00    5.00  140.00   \n",
       "Escapades inexplorées: Safari côte à côte vers ...    50.83    4.65  520.00   \n",
       "\n",
       "                                                    duration  \\\n",
       "title                                                          \n",
       "Découverte de la véritable cuisine crétoise             2.35   \n",
       "Zeus Cave-Traditional-Villages-Old Wind Mills-O...      2.35   \n",
       "Billet coupe-file: billet d'entrée au musée arc...      3.00   \n",
       "Visite contée des rues de La Canée en matinée a...      4.00   \n",
       "Excursion d’une journée dans l’ouest de la Crèt...      2.35   \n",
       "Snorkeling et excursion en bateau en Crète              4.00   \n",
       "Randonnée d'une journée en petit groupe dans le...      2.35   \n",
       "Crète excursion vin et huile d'olive                    2.35   \n",
       "SUP et plongée en tuba au Blue Lagoon - Baie de...      2.00   \n",
       "Cours de Poterie                                        2.00   \n",
       "Formule Combinée Avec Visite De La Vieille Vill...      2.00   \n",
       "Excursion d'une journée complète à l'île de Spi...      2.35   \n",
       "Grotte de Zeus et plateau du Lassithi (excursio...      2.35   \n",
       "Balade guidée au palais de Cnossos                      0.50   \n",
       "Journée complète en safari à Mykonos                    2.35   \n",
       "Randonnée à pied                                        4.00   \n",
       "Les 7 villages d'Apokoronas - Explorez la parti...      2.35   \n",
       "Visite d'huile d'olive et dégustation                   1.00   \n",
       "Visite privée de Gramvousa et Balos au départ d...      2.35   \n",
       "Excursion privée en tricycle dans la vieille vi...      0.50   \n",
       "Visite semi-privée d'une journée complète sur l...      2.35   \n",
       "Tango à Vamos (Apocoronas)                              0.50   \n",
       "Croisières d'une journée en bateau privé dans l...      2.35   \n",
       "Randonnée d’une journée de 19 km aux gorges de ...      2.35   \n",
       "Billet coupe-file: billet d'entrée au palais de...      3.00   \n",
       "Aventure en buggy hors route en Crète                   2.35   \n",
       "Escapades inexplorées: Safari côte à côte vers ...      4.00   \n",
       "\n",
       "                                                                                          description  \n",
       "title                                                                                                  \n",
       "Découverte de la véritable cuisine crétoise         Visitez la maison de montagne familiale d'un c...  \n",
       "Zeus Cave-Traditional-Villages-Old Wind Mills-O...  Passez une journée entière à explorer la Crète...  \n",
       "Billet coupe-file: billet d'entrée au musée arc...  Le musée archéologique d'Héraklion abrite la p...  \n",
       "Visite contée des rues de La Canée en matinée a...  Découvrez la véritable Crète lors d'une visite...  \n",
       "Excursion d’une journée dans l’ouest de la Crèt...  Les villes de La Canée et de Rethymnon, située...  \n",
       "Snorkeling et excursion en bateau en Crète          La plongée en apnée est à la fois très relaxan...  \n",
       "Randonnée d'une journée en petit groupe dans le...  Promenez-vous dans l’un des plus longs canyons...  \n",
       "Crète excursion vin et huile d'olive                Le sol riche et fertile de la Crète en fait un...  \n",
       "SUP et plongée en tuba au Blue Lagoon - Baie de...  Explorez la côte crétoise à partir d'une planc...  \n",
       "Cours de Poterie                                    Créer un objet en céramique est un moment uniq...  \n",
       "Formule Combinée Avec Visite De La Vieille Vill...  Faites des visites faciles à La Canée lors de ...  \n",
       "Excursion d'une journée complète à l'île de Spi...  Explorez la magnifique île de Spinalonga au la...  \n",
       "Grotte de Zeus et plateau du Lassithi (excursio...  Combinez le tourisme rural à l'aventure lors d...  \n",
       "Balade guidée au palais de Cnossos                  Excavé et restauré par des archéologues au déb...  \n",
       "Journée complète en safari à Mykonos                Conduisez une jeep avec nous et découvrez les ...  \n",
       "Randonnée à pied                                    Il est difficile de connaître la vraie Canée s...  \n",
       "Les 7 villages d'Apokoronas - Explorez la parti...  C'est un excellent choix pour les nouveaux vis...  \n",
       "Visite d'huile d'olive et dégustation               De l'arbre à la bouteille, vous saurez tout su...  \n",
       "Visite privée de Gramvousa et Balos au départ d...  La mini-croisière à Gramvousa et à Balos est u...  \n",
       "Excursion privée en tricycle dans la vieille vi...  Partez à la découverte de la vieille ville de ...  \n",
       "Visite semi-privée d'une journée complète sur l...  La Crète a une longue tradition viticole, qui ...  \n",
       "Tango à Vamos (Apocoronas)                          Trouver du tango pendant vos vacances peut êtr...  \n",
       "Croisières d'une journée en bateau privé dans l...  Avec notre voilier \"Mikros Naftilos\", nous org...  \n",
       "Randonnée d’une journée de 19 km aux gorges de ...  Avec ses murs abrupts et ses passages étroits,...  \n",
       "Billet coupe-file: billet d'entrée au palais de...  Personne ne veut perdre son temps de vacances ...  \n",
       "Aventure en buggy hors route en Crète               Certains des paysages les plus sombres et les ...  \n",
       "Escapades inexplorées: Safari côte à côte vers ...  Profitez d'une fabuleuse journée à bord. Les e...  "
      ]
     },
     "execution_count": 15,
     "metadata": {},
     "output_type": "execute_result"
    }
   ],
   "source": [
    "#imputation des valeurs manquantes par la moyenne\n",
    "pd.set_option(\"display.precision\", 2)\n",
    "df.fillna(df.mean(), inplace=True)\n",
    "df"
   ]
  },
  {
   "cell_type": "code",
   "execution_count": 16,
   "metadata": {},
   "outputs": [
    {
     "name": "stdout",
     "output_type": "stream",
     "text": [
      "url            0\n",
      "reviews        0\n",
      "rating         0\n",
      "price          0\n",
      "duration       0\n",
      "description    0\n",
      "dtype: int64\n"
     ]
    }
   ],
   "source": [
    "#savoir s'il y a encore des valeurs manquantes ou pas\n",
    "print(df.isna().sum())"
   ]
  },
  {
   "cell_type": "code",
   "execution_count": 17,
   "metadata": {},
   "outputs": [
    {
     "data": {
      "text/html": [
       "<div>\n",
       "<style scoped>\n",
       "    .dataframe tbody tr th:only-of-type {\n",
       "        vertical-align: middle;\n",
       "    }\n",
       "\n",
       "    .dataframe tbody tr th {\n",
       "        vertical-align: top;\n",
       "    }\n",
       "\n",
       "    .dataframe thead th {\n",
       "        text-align: right;\n",
       "    }\n",
       "</style>\n",
       "<table border=\"1\" class=\"dataframe\">\n",
       "  <thead>\n",
       "    <tr style=\"text-align: right;\">\n",
       "      <th></th>\n",
       "      <th>reviews</th>\n",
       "      <th>rating</th>\n",
       "      <th>price</th>\n",
       "      <th>duration</th>\n",
       "    </tr>\n",
       "  </thead>\n",
       "  <tbody>\n",
       "    <tr>\n",
       "      <th>reviews</th>\n",
       "      <td>1.00</td>\n",
       "      <td>0.27</td>\n",
       "      <td>-0.11</td>\n",
       "      <td>-0.05</td>\n",
       "    </tr>\n",
       "    <tr>\n",
       "      <th>rating</th>\n",
       "      <td>0.27</td>\n",
       "      <td>1.00</td>\n",
       "      <td>-0.02</td>\n",
       "      <td>-0.10</td>\n",
       "    </tr>\n",
       "    <tr>\n",
       "      <th>price</th>\n",
       "      <td>-0.11</td>\n",
       "      <td>-0.02</td>\n",
       "      <td>1.00</td>\n",
       "      <td>0.29</td>\n",
       "    </tr>\n",
       "    <tr>\n",
       "      <th>duration</th>\n",
       "      <td>-0.05</td>\n",
       "      <td>-0.10</td>\n",
       "      <td>0.29</td>\n",
       "      <td>1.00</td>\n",
       "    </tr>\n",
       "  </tbody>\n",
       "</table>\n",
       "</div>"
      ],
      "text/plain": [
       "          reviews  rating  price  duration\n",
       "reviews      1.00    0.27  -0.11     -0.05\n",
       "rating       0.27    1.00  -0.02     -0.10\n",
       "price       -0.11   -0.02   1.00      0.29\n",
       "duration    -0.05   -0.10   0.29      1.00"
      ]
     },
     "execution_count": 17,
     "metadata": {},
     "output_type": "execute_result"
    }
   ],
   "source": [
    "df.corr()"
   ]
  },
  {
   "cell_type": "code",
   "execution_count": 18,
   "metadata": {},
   "outputs": [
    {
     "data": {
      "image/png": "[encoded data removed]",
      "text/plain": [
       "<Figure size 432x288 with 2 Axes>"
      ]
     },
     "metadata": {
      "needs_background": "light"
     },
     "output_type": "display_data"
    }
   ],
   "source": [
    "#visualisation des colonnes sous forme de matrice de correlation\n",
    "#quelle data est corréelée avec qui\n",
    "\n",
    "import seaborn as sea\n",
    "import matplotlib.pyplot as plt\n",
    "import pandas as pd\n",
    "\n",
    "corrMatrix = df.corr()\n",
    "sea.heatmap (corrMatrix, annot = True)\n",
    "plt.show()"
   ]
  },
  {
   "cell_type": "code",
   "execution_count": 19,
   "metadata": {},
   "outputs": [
    {
     "data": {
      "text/plain": [
       "<seaborn.axisgrid.FacetGrid at 0x1d7ff379d08>"
      ]
     },
     "execution_count": 19,
     "metadata": {},
     "output_type": "execute_result"
    },
    {
     "data": {
      "image/png": "[encoded data removed]",
      "text/plain": [
       "<Figure size 1296x216 with 6 Axes>"
      ]
     },
     "metadata": {
      "needs_background": "light"
     },
     "output_type": "display_data"
    }
   ],
   "source": [
    "#représentation graphique des data les plus corrélées entre elles\n",
    "\n",
    "g = sea.FacetGrid(df, col='rating')\n",
    "g.map(plt.hist,'reviews', bins=10)"
   ]
  },
  {
   "cell_type": "code",
   "execution_count": 20,
   "metadata": {},
   "outputs": [
    {
     "data": {
      "text/plain": [
       "<seaborn.axisgrid.FacetGrid at 0x1d7ff6c3048>"
      ]
     },
     "execution_count": 20,
     "metadata": {},
     "output_type": "execute_result"
    },
    {
     "data": {
      "image/png": "[encoded data removed]",
      "text/plain": [
       "<Figure size 1296x216 with 6 Axes>"
      ]
     },
     "metadata": {
      "needs_background": "light"
     },
     "output_type": "display_data"
    }
   ],
   "source": [
    "g = sea.FacetGrid(df, col='duration')\n",
    "g.map(plt.hist,'price', bins=10)"
   ]
  },
  {
   "cell_type": "code",
   "execution_count": 21,
   "metadata": {},
   "outputs": [
    {
     "name": "stdout",
     "output_type": "stream",
     "text": [
      "<class 'pandas.core.frame.DataFrame'>\n",
      "Index: 27 entries, Découverte de la véritable cuisine crétoise to Escapades inexplorées: Safari côte à côte vers la péninsule de...\n",
      "Data columns (total 6 columns):\n",
      " #   Column       Non-Null Count  Dtype  \n",
      "---  ------       --------------  -----  \n",
      " 0   url          27 non-null     object \n",
      " 1   reviews      27 non-null     float64\n",
      " 2   rating       27 non-null     float64\n",
      " 3   price        27 non-null     float64\n",
      " 4   duration     27 non-null     float64\n",
      " 5   description  27 non-null     object \n",
      "dtypes: float64(4), object(2)\n",
      "memory usage: 2.7+ KB\n"
     ]
    }
   ],
   "source": [
    "df.info()"
   ]
  },
  {
   "cell_type": "code",
   "execution_count": 22,
   "metadata": {},
   "outputs": [
    {
     "data": {
      "text/plain": [
       "<matplotlib.collections.PathCollection at 0x1d7fef645c8>"
      ]
     },
     "execution_count": 22,
     "metadata": {},
     "output_type": "execute_result"
    },
    {
     "data": {
      "image/png": "[encoded data removed]",
      "text/plain": [
       "<Figure size 432x288 with 1 Axes>"
      ]
     },
     "metadata": {
      "needs_background": "light"
     },
     "output_type": "display_data"
    }
   ],
   "source": [
    "#nuage de points de rating par rapport aux reviews (test) \n",
    "\n",
    "plt.scatter(df['reviews'],df['rating'])"
   ]
  },
  {
   "cell_type": "code",
   "execution_count": 23,
   "metadata": {},
   "outputs": [
    {
     "data": {
      "text/plain": [
       "array([[<matplotlib.axes._subplots.AxesSubplot object at 0x000001D7FFDBFA48>,\n",
       "        <matplotlib.axes._subplots.AxesSubplot object at 0x000001D7FFDF1748>,\n",
       "        <matplotlib.axes._subplots.AxesSubplot object at 0x000001D7FFE28E88>,\n",
       "        <matplotlib.axes._subplots.AxesSubplot object at 0x000001D7FFE63608>],\n",
       "       [<matplotlib.axes._subplots.AxesSubplot object at 0x000001D7FFE99DC8>,\n",
       "        <matplotlib.axes._subplots.AxesSubplot object at 0x000001D7FFED3BC8>,\n",
       "        <matplotlib.axes._subplots.AxesSubplot object at 0x000001D7FFF0CAC8>,\n",
       "        <matplotlib.axes._subplots.AxesSubplot object at 0x000001D7FFF45848>],\n",
       "       [<matplotlib.axes._subplots.AxesSubplot object at 0x000001D7FFF45A48>,\n",
       "        <matplotlib.axes._subplots.AxesSubplot object at 0x000001D7FFF7E988>,\n",
       "        <matplotlib.axes._subplots.AxesSubplot object at 0x000001D78200ED08>,\n",
       "        <matplotlib.axes._subplots.AxesSubplot object at 0x000001D782049A88>],\n",
       "       [<matplotlib.axes._subplots.AxesSubplot object at 0x000001D782082848>,\n",
       "        <matplotlib.axes._subplots.AxesSubplot object at 0x000001D7820BC5C8>,\n",
       "        <matplotlib.axes._subplots.AxesSubplot object at 0x000001D7820F4348>,\n",
       "        <matplotlib.axes._subplots.AxesSubplot object at 0x000001D782126F48>]],\n",
       "      dtype=object)"
      ]
     },
     "execution_count": 23,
     "metadata": {},
     "output_type": "execute_result"
    },
    {
     "data": {
      "image/png": "[encoded data removed]",
      "text/plain": [
       "<Figure size 648x648 with 16 Axes>"
      ]
     },
     "metadata": {
      "needs_background": "light"
     },
     "output_type": "display_data"
    }
   ],
   "source": [
    "#graphique - croisement deux à deux des variables\n",
    "from pandas.plotting import scatter_matrix\n",
    "scatter_matrix(df,figsize=(9,9))"
   ]
  },
  {
   "cell_type": "code",
   "execution_count": 42,
   "metadata": {},
   "outputs": [],
   "source": [
    "#creation de ma variable X pour le clustering en supprimant certaines colonnes\n",
    "\n",
    "X = df.drop(['url', 'description'], axis=1)"
   ]
  },
  {
   "cell_type": "code",
   "execution_count": 45,
   "metadata": {},
   "outputs": [
    {
     "name": "stdout",
     "output_type": "stream",
     "text": [
      "reviews     248.0\n",
      "rating        5.0\n",
      "price       520.0\n",
      "duration      4.0\n",
      "dtype: float64\n"
     ]
    }
   ],
   "source": [
    "# normalisation de ma dataframe avoir des données entre 0 et 1 \n",
    "#Cela préserve la forme de la distribution de chaque variable \n",
    "#tout en les rendant facilement comparables sur la même “échelle”.\n",
    "# et reduire la compléxité du modèle \n",
    "\n",
    "X_max = X.max()\n",
    "XX = X.apply(lambda x: x / x.max())\n",
    "print(X_max)"
   ]
  },
  {
   "cell_type": "code",
   "execution_count": 46,
   "metadata": {},
   "outputs": [],
   "source": [
    "from sklearn.cluster import KMeans"
   ]
  },
  {
   "cell_type": "code",
   "execution_count": 47,
   "metadata": {},
   "outputs": [],
   "source": [
    "#Elbow Method pour detecter combien de clusters je vais devoir avoir besoin pour mon modèle\n",
    "\n",
    "inertia =[]\n",
    "K_range= range(1,20)\n",
    "for k in K_range:\n",
    "    model=KMeans(n_clusters=k).fit(X)\n",
    "    inertia.append(model.inertia_)"
   ]
  },
  {
   "cell_type": "code",
   "execution_count": 48,
   "metadata": {},
   "outputs": [
    {
     "data": {
      "text/plain": [
       "Text(0, 0.5, 'Cout du modele(Inertia)')"
      ]
     },
     "execution_count": 48,
     "metadata": {},
     "output_type": "execute_result"
    },
    {
     "data": {
      "image/png": "[encoded data removed]",
      "text/plain": [
       "<Figure size 432x288 with 1 Axes>"
      ]
     },
     "metadata": {
      "needs_background": "light"
     },
     "output_type": "display_data"
    }
   ],
   "source": [
    "#visualisation\n",
    "\n",
    "plt.plot(K_range,inertia)\n",
    "plt.xlabel('nombre de clusters')\n",
    "plt.ylabel('Cout du modele(Inertia)')"
   ]
  },
  {
   "cell_type": "code",
   "execution_count": 76,
   "metadata": {},
   "outputs": [
    {
     "data": {
      "text/plain": [
       "array([[0.18701464, 0.96273148, 0.15000427, 0.65491453],\n",
       "       [0.12063172, 0.96458333, 0.99310577, 0.79326923],\n",
       "       [1.        , 1.        , 0.11346154, 0.5       ],\n",
       "       [0.20749328, 0.98229167, 0.07562981, 0.15625   ],\n",
       "       [0.0483871 , 0.45      , 0.22538462, 0.66826923]])"
      ]
     },
     "execution_count": 76,
     "metadata": {},
     "output_type": "execute_result"
    },
    {
     "data": {
      "image/png": "[encoded data removed]",
      "text/plain": [
       "<Figure size 432x288 with 1 Axes>"
      ]
     },
     "metadata": {
      "needs_background": "light"
     },
     "output_type": "display_data"
    }
   ],
   "source": [
    "#création du modèle KMeans\n",
    "\n",
    "model = KMeans(n_clusters=5) #choix du nombre de clusters selon la méthode ELBOW\n",
    "\n",
    "model.fit(X) #fit entraine le modèle\n",
    "\n",
    "clusters=model.predict(X) #Nous pouvons prédire la classe des nouvelles instances de données à l'aide de notre modèle \n",
    "#de classification finalisé dans scikit-learn en utilisant la fonction prédire () .\n",
    "\n",
    "ax = plt.scatter(X.iloc[:,0],X.iloc[:,1],c=model.predict(X))\n",
    "plt.scatter(model.cluster_centers_[:,0],model.cluster_centers_[:,1],marker = \"x\",color = 'black')\n",
    "\n",
    "model.cluster_centers_#ressort les K (données prototypes, autour desquelles peuvent \n",
    "#être regroupées les autres données, ou autrement dit les centroides). \n",
    "#l'algo associe chaque donnée à son centroide le plus proche, pour créer des clusters.\n",
    "\n",
    "#model.inertia_\n",
    "               \n",
    "\n",
    "#n_init = nombre d'executions(10)\n",
    "#max_iter = nombre d'itérations(300)\n",
    "#init = type d'initialisation,par défaut K-Means++\n"
   ]
  },
  {
   "cell_type": "code",
   "execution_count": 50,
   "metadata": {},
   "outputs": [],
   "source": [
    "X_clustered = pd.DataFrame(model.cluster_centers_,columns=X.columns) #Mise sous forme de dataset mes centroides"
   ]
  },
  {
   "cell_type": "code",
   "execution_count": 54,
   "metadata": {},
   "outputs": [
    {
     "name": "stdout",
     "output_type": "stream",
     "text": [
      "reviews     248.0\n",
      "rating        5.0\n",
      "price       520.0\n",
      "duration      4.0\n",
      "dtype: float64\n"
     ]
    },
    {
     "data": {
      "text/html": [
       "<div>\n",
       "<style scoped>\n",
       "    .dataframe tbody tr th:only-of-type {\n",
       "        vertical-align: middle;\n",
       "    }\n",
       "\n",
       "    .dataframe tbody tr th {\n",
       "        vertical-align: top;\n",
       "    }\n",
       "\n",
       "    .dataframe thead th {\n",
       "        text-align: right;\n",
       "    }\n",
       "</style>\n",
       "<table border=\"1\" class=\"dataframe\">\n",
       "  <thead>\n",
       "    <tr style=\"text-align: right;\">\n",
       "      <th></th>\n",
       "      <th>reviews</th>\n",
       "      <th>rating</th>\n",
       "      <th>price</th>\n",
       "      <th>duration</th>\n",
       "    </tr>\n",
       "  </thead>\n",
       "  <tbody>\n",
       "    <tr>\n",
       "      <th>0</th>\n",
       "      <td>12.00</td>\n",
       "      <td>2.25</td>\n",
       "      <td>117.20</td>\n",
       "      <td>2.67</td>\n",
       "    </tr>\n",
       "    <tr>\n",
       "      <th>1</th>\n",
       "      <td>51.46</td>\n",
       "      <td>4.91</td>\n",
       "      <td>39.33</td>\n",
       "      <td>0.62</td>\n",
       "    </tr>\n",
       "    <tr>\n",
       "      <th>2</th>\n",
       "      <td>46.38</td>\n",
       "      <td>4.81</td>\n",
       "      <td>78.00</td>\n",
       "      <td>2.62</td>\n",
       "    </tr>\n",
       "    <tr>\n",
       "      <th>3</th>\n",
       "      <td>29.92</td>\n",
       "      <td>4.82</td>\n",
       "      <td>516.42</td>\n",
       "      <td>3.17</td>\n",
       "    </tr>\n",
       "    <tr>\n",
       "      <th>4</th>\n",
       "      <td>248.00</td>\n",
       "      <td>5.00</td>\n",
       "      <td>59.00</td>\n",
       "      <td>2.00</td>\n",
       "    </tr>\n",
       "  </tbody>\n",
       "</table>\n",
       "</div>"
      ],
      "text/plain": [
       "   reviews  rating   price  duration\n",
       "0    12.00    2.25  117.20      2.67\n",
       "1    51.46    4.91   39.33      0.62\n",
       "2    46.38    4.81   78.00      2.62\n",
       "3    29.92    4.82  516.42      3.17\n",
       "4   248.00    5.00   59.00      2.00"
      ]
     },
     "execution_count": 54,
     "metadata": {},
     "output_type": "execute_result"
    }
   ],
   "source": [
    "print(X_max)\n",
    "X_clustered['reviews']=X_clustered['reviews']*X_max['reviews']\n",
    "X_clustered['rating']=X_clustered['rating']*X_max['rating']\n",
    "X_clustered['price']=X_clustered['price']*X_max['price']\n",
    "X_clustered['duration']=X_clustered['duration']*X_max['duration']\n",
    "X_clustered.head()"
   ]
  },
  {
   "cell_type": "raw",
   "metadata": {},
   "source": [
    "\"\"\"nous pouvons voir que lorsque la durée est élevée, le prix l'est aussi\n",
    "plus il y a de nombreux commentaires mieux l'activité est notée\"\"\""
   ]
  },
  {
   "cell_type": "code",
   "execution_count": 86,
   "metadata": {},
   "outputs": [
    {
     "data": {
      "image/png": "[encoded data removed]",
      "text/plain": [
       "<Figure size 432x288 with 4 Axes>"
      ]
     },
     "metadata": {
      "needs_background": "light"
     },
     "output_type": "display_data"
    }
   ],
   "source": [
    "hist = X_clustered.hist(bins=3)#visualisation histogramme"
   ]
  },
  {
   "cell_type": "code",
   "execution_count": 72,
   "metadata": {},
   "outputs": [
    {
     "data": {
      "text/plain": [
       "<matplotlib.legend.Legend at 0x1d785e50e48>"
      ]
     },
     "execution_count": 72,
     "metadata": {},
     "output_type": "execute_result"
    },
    {
     "data": {
      "image/png": "[encoded data removed]",
      "text/plain": [
       "<Figure size 432x288 with 1 Axes>"
      ]
     },
     "metadata": {
      "needs_background": "light"
     },
     "output_type": "display_data"
    }
   ],
   "source": [
    "# get columns to plot\n",
    "columns = X\n",
    "# create x data\n",
    "x_data = range(0, df.shape[0])\n",
    "# create figure and axis\n",
    "fig, ax = plt.subplots()\n",
    "# plot each column\n",
    "for column in columns:\n",
    "    ax.plot(x_data, df[column], label=column)\n",
    "# set title and legend\n",
    "ax.set_title('scraping Dataset')\n",
    "ax.legend()"
   ]
  },
  {
   "cell_type": "code",
   "execution_count": 81,
   "metadata": {},
   "outputs": [
    {
     "data": {
      "text/plain": [
       "<matplotlib.axes._subplots.AxesSubplot at 0x1d786b03ec8>"
      ]
     },
     "execution_count": 81,
     "metadata": {},
     "output_type": "execute_result"
    },
    {
     "data": {
      "image/png": "[encoded data removed]",
      "text/plain": [
       "<Figure size 432x288 with 1 Axes>"
      ]
     },
     "metadata": {
      "needs_background": "light"
     },
     "output_type": "display_data"
    }
   ],
   "source": [
    "df.groupby(\"title\").price.mean().sort_values(ascending=False)[:5].plot.bar()"
   ]
  },
  {
   "cell_type": "code",
   "execution_count": 84,
   "metadata": {},
   "outputs": [
    {
     "data": {
      "text/plain": [
       "<matplotlib.axes._subplots.AxesSubplot at 0x1d787052e08>"
      ]
     },
     "execution_count": 84,
     "metadata": {},
     "output_type": "execute_result"
    },
    {
     "data": {
      "image/png": "[encoded data removed]",
      "text/plain": [
       "<Figure size 432x288 with 1 Axes>"
      ]
     },
     "metadata": {
      "needs_background": "light"
     },
     "output_type": "display_data"
    }
   ],
   "source": [
    "sea.distplot(df['price'], bins=10, kde=False)"
   ]
  },
  {
   "cell_type": "code",
   "execution_count": null,
   "metadata": {},
   "outputs": [],
   "source": []
  }
 ],
 "metadata": {
  "kernelspec": {
   "display_name": "Python 3",
   "language": "python",
   "name": "python3"
  },
  "language_info": {
   "codemirror_mode": {
    "name": "ipython",
    "version": 3
   },
   "file_extension": ".py",
   "mimetype": "text/x-python",
   "name": "python",
   "nbconvert_exporter": "python",
   "pygments_lexer": "ipython3",
   "version": "3.7.4"
  }
 },
 "nbformat": 4,
 "nbformat_minor": 4
}
